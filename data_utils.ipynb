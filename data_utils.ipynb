{
 "cells": [
  {
   "cell_type": "markdown",
   "metadata": {},
   "source": [
    "<h1>Notebook containing functions to preprocess data</h1>\n"
   ]
  },
  {
   "cell_type": "code",
   "execution_count": 33,
   "metadata": {},
   "outputs": [],
   "source": [
    "import numpy as np\n",
    "import cv2 as cv\n",
    "import imageio\n",
    "import os\n",
    "from pathlib import Path"
   ]
  },
  {
   "cell_type": "code",
   "execution_count": 6,
   "metadata": {},
   "outputs": [
    {
     "name": "stdout",
     "output_type": "stream",
     "text": [
      "30.0\n",
      "1096.0\n",
      "594.0\n"
     ]
    }
   ],
   "source": [
    "#Opens video and gets info\n",
    "\n",
    "cap = cv.VideoCapture(\"test_code/swainas.mp4\")\n",
    "print(cap.get(cv.CAP_PROP_FPS))\n",
    "print(cap.get(cv.CAP_PROP_FRAME_WIDTH))\n",
    "print(cap.get(cv.CAP_PROP_FRAME_HEIGHT))"
   ]
  },
  {
   "cell_type": "code",
   "execution_count": 7,
   "metadata": {},
   "outputs": [
    {
     "name": "stdout",
     "output_type": "stream",
     "text": [
      "Over...\n",
      "Saved...\n"
     ]
    }
   ],
   "source": [
    "#reads the video and resizes it and saves it as a gif file\n",
    "\n",
    "images = []\n",
    "while(True):\n",
    "    ret, frame = cap.read()\n",
    "    if (not ret) or (cv.waitKey(1) & 0xFF == ord('q')):\n",
    "        print(\"Over...\")\n",
    "        break\n",
    "\n",
    "    gray = cv.cvtColor(frame, cv.COLOR_BGR2GRAY)\n",
    "    res = cv.resize(frame,(100,90))\n",
    "    images.append(res)\n",
    "    cv.imshow('frame',gray)\n",
    "    cv.imshow('resized frame',res)\n",
    "\n",
    "cap.release()\n",
    "cv.destroyAllWindows()\n",
    "imageio.mimsave(\"test_code/testgif.gif\",images)\n",
    "print(\"Saved...\")"
   ]
  },
  {
   "cell_type": "code",
   "execution_count": 46,
   "metadata": {},
   "outputs": [],
   "source": [
    "def create_gif(out_file):\n",
    "    start = input(\"Press Space to start recording\")\n",
    "    print(\"Press Space to stop recording\")\n",
    "    if(start == \" \"):\n",
    "        print(\"GO....!!!\")\n",
    "        cap = cv.VideoCapture(\"test_code/swainas.mp4\")\n",
    "        #cap.set(cv.CAP_PROP_FPS,10)\n",
    "        images = []\n",
    "        while(True):\n",
    "            ret, frame = cap.read()\n",
    "            if (not ret) or (cv.waitKey(1) & 0xFF == ord(' ')):\n",
    "                print(\"Over...\")\n",
    "                break\n",
    "\n",
    "            res = cv.resize(frame,(100,90))\n",
    "            images.append(res)\n",
    "            cv.imshow('frame',frame)\n",
    "            #cv.imshow('resized frame',res)\n",
    "\n",
    "        cap.release()\n",
    "        cv.destroyAllWindows()\n",
    "        imageio.mimsave(out_file,images)\n",
    "        print(\"Saved...\")"
   ]
  },
  {
   "cell_type": "code",
   "execution_count": 45,
   "metadata": {},
   "outputs": [
    {
     "name": "stdout",
     "output_type": "stream",
     "text": [
      "This is the Dataset maker\n",
      "\tPress 1 to capture videos\n",
      "\tPress 2 to exit1\n",
      "Enter the object number1\n",
      "Enter the task number001\n",
      "Press Space to start recording \n",
      "Press Space to stop recording\n",
      "GO....!!!\n",
      "Over...\n",
      "Saved...\n",
      "\tPress 1 to capture videos\n",
      "\tPress 2 to exit2\n"
     ]
    }
   ],
   "source": [
    "print(\"This is the Dataset maker\")\n",
    "opt = input(\"\\tPress 1 to capture videos\\n\\tPress 2 to exit\")\n",
    "while(opt != '2'):\n",
    "    ob_num = input(\"Enter the object number\")\n",
    "    task_num = input(\"Enter the task number\")\n",
    "    ob_folder = Path(f\"dataset/placing/object{ob_num}\")\n",
    "    if not os.path.exists(ob_folder):\n",
    "        os.makedirs(ob_folder)\n",
    "    out_file = ob_folder / f\"task{task_num}.gif\"\n",
    "    create_gif(out_file)\n",
    "    opt = input(\"\\tPress 1 to capture videos\\n\\tPress 2 to exit\")"
   ]
  },
  {
   "cell_type": "code",
   "execution_count": null,
   "metadata": {},
   "outputs": [],
   "source": []
  }
 ],
 "metadata": {
  "kernelspec": {
   "display_name": "Python 3",
   "language": "python",
   "name": "python3"
  },
  "language_info": {
   "codemirror_mode": {
    "name": "ipython",
    "version": 3
   },
   "file_extension": ".py",
   "mimetype": "text/x-python",
   "name": "python",
   "nbconvert_exporter": "python",
   "pygments_lexer": "ipython3",
   "version": "3.6.8"
  }
 },
 "nbformat": 4,
 "nbformat_minor": 2
}
